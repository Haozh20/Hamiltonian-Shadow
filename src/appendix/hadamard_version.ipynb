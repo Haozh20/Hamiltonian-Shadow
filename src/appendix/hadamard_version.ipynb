{
 "cells": [
  {
   "cell_type": "code",
   "execution_count": 1,
   "id": "48bbdfab",
   "metadata": {},
   "outputs": [],
   "source": [
    "import numpy as np\n",
    "from qiskit.quantum_info import partial_trace as ptrace\n",
    "from qiskit.quantum_info import random_unitary\n",
    "from numpy import random\n"
   ]
  },
  {
   "cell_type": "code",
   "execution_count": 13,
   "id": "2c683c3d",
   "metadata": {},
   "outputs": [],
   "source": [
    "def Shadow(rho):\n",
    "    dim = len(rho)\n",
    "    qubit_num = int(np.log2(len(rho)))\n",
    "    U = np.array(random_unitary(dim))\n",
    "    \n",
    "    evoluted_rho = np.dot(U,np.dot(rho,np.conj(U).T))\n",
    "    prob_lst = [0 for i in range(dim)]\n",
    "    for i in range(dim):\n",
    "        if abs(evoluted_rho[i][i]) > 10**(-10):\n",
    "            prob_lst[i] = evoluted_rho[i][i]\n",
    "        else: \n",
    "            prob_lst[i] = 0\n",
    "    measurement_res = np.random.choice(np.arange(0,dim),p = prob_lst)\n",
    "    \n",
    "    rho_hat = np.array([[0 for i in range(dim)] for j in range(dim)])\n",
    "    rho_hat[measurement_res][measurement_res] = 1\n",
    "    rho_hat = (dim+1)*np.dot(np.conj(U).T,np.dot(rho_hat,U))-np.identity(dim)\n",
    "    return rho_hat\n",
    "\n",
    "def Shadow_estimator(rho,obs,M):\n",
    "    res = 0\n",
    "    for i in range(M):\n",
    "        res += np.trace(np.dot(obs,Shadow(rho)))/M\n",
    "    return res\n",
    "\n",
    "def variance(rho,obs,M,times):\n",
    "    var = 0\n",
    "    real_value = np.trace(np.dot(obs,rho))\n",
    "    for i in range(times):\n",
    "        estimator = Shadow_estimator(rho,obs,M)\n",
    "        var += ((estimator-real_value)**2).real/times\n",
    "    return var\n",
    "\n",
    "def H_Shadow(rho):\n",
    "    n = int(np.log2(len(rho)))\n",
    "    Hadamard = np.array([[1,1],[1,-1]]/np.sqrt(2))\n",
    "    for i in range(n-1):\n",
    "        Hadamard = np.kron(Hadamard,np.array([[1,1],[1,-1]]/np.sqrt(2)))\n",
    "    RDU = np.diag([np.e**(complex(0,2*np.pi*random.rand())) for i in range(2**n)])\n",
    "    U = np.dot(Hadamard,RDU)\n",
    "    \n",
    "    evolve = np.dot(U,np.dot(rho,np.conj(U).T))\n",
    "    prob_lst = [evolve[i][i] for i in range(2**n)]\n",
    "    measurement_res = int(np.random.choice(np.arange(0,2**n),p = prob_lst))\n",
    "    \n",
    "    snap = np.zeros((2**n,2**n))\n",
    "    snap[measurement_res][measurement_res] = 1\n",
    "    snap = np.dot(np.conj(U).T,np.dot(snap,U))\n",
    "    snap = 2**n*snap-np.identity(2**n)\n",
    "    \n",
    "    return snap\n",
    "\n",
    "def H_Shadow_estimator(rho,obs,M):\n",
    "    res = 0\n",
    "    for i in range(M):\n",
    "        res += np.trace(np.dot(obs,H_Shadow(rho)))/M\n",
    "    return res\n",
    "\n",
    "def D_variance(rho,obs,M,times):\n",
    "    var = 0\n",
    "    real_value = np.trace(np.dot(obs,rho))\n",
    "    for i in range(times):\n",
    "        estimator = H_Shadow_estimator(rho,obs,M)\n",
    "        var += ((estimator-real_value)**2).real/times\n",
    "    return var"
   ]
  },
  {
   "cell_type": "code",
   "execution_count": null,
   "id": "0a42daf2",
   "metadata": {},
   "outputs": [],
   "source": [
    "M=10\n",
    "times = 1000\n",
    "X = np.array([[0,1],[1,0]])\n",
    "S_variance_lst = []\n",
    "DS_variance_lst = []\n",
    "for n in range(1,10):\n",
    "    U1 = random_unitary(2**n)\n",
    "    U2 = random_unitary(2**n)\n",
    "\n",
    "    rho0 = np.diag([1]+[0 for i in range(2**n-1)])\n",
    "    rho = np.dot(U1,np.dot(rho0,np.conj(U1).T))\n",
    "    obs = X\n",
    "    for i in range(n-1):\n",
    "        obs = np.kron(X,obs)\n",
    "    S_variance_lst.append(variance(rho,obs,M,times))\n",
    "    DS_variance_lst.append(D_variance(rho,obs,M,times))\n",
    "    \n",
    "    print('n=',n)\n",
    "    print('S:',S_variance_lst[n-1])\n",
    "    print('D:',DS_variance_lst[n-1])"
   ]
  },
  {
   "cell_type": "code",
   "execution_count": 15,
   "id": "759151c6",
   "metadata": {},
   "outputs": [
    {
     "name": "stdout",
     "output_type": "stream",
     "text": [
      "[0.2766646506914531, 0.4792013913995822, 0.8570296581172637, 1.7351877854861233, 3.191508420947368, 6.220622693484177, 12.04967458147364, 27.39596927312283]\n",
      "[0.18478720747259503, 0.4006597318297908, 0.7940089643022166, 1.4999795229434008, 3.219958258638862, 6.781304359618185, 13.290053469117396, 25.236019475069696]\n"
     ]
    }
   ],
   "source": [
    "print(S_variance_lst)\n",
    "print(DS_variance_lst)"
   ]
  }
 ],
 "metadata": {
  "kernelspec": {
   "display_name": "Python 3",
   "language": "python",
   "name": "python3"
  },
  "language_info": {
   "codemirror_mode": {
    "name": "ipython",
    "version": 3
   },
   "file_extension": ".py",
   "mimetype": "text/x-python",
   "name": "python",
   "nbconvert_exporter": "python",
   "pygments_lexer": "ipython3",
   "version": "3.8.8"
  }
 },
 "nbformat": 4,
 "nbformat_minor": 5
}
