{
 "cells": [
  {
   "cell_type": "code",
   "execution_count": 10,
   "metadata": {},
   "outputs": [
    {
     "name": "stdout",
     "output_type": "stream",
     "text": [
      "[[4 3]\n",
      " [3 4]]\n",
      "[[ 0.70710678 -0.70710678]\n",
      " [ 0.70710678  0.70710678]] [7. 1.]\n",
      "[[4. 3.]\n",
      " [3. 4.]]\n",
      "[[0.97295507 0.97295507]\n",
      " [0.97295507 0.97295507]]\n",
      "1.9459101490553132\n"
     ]
    }
   ],
   "source": [
    "import numpy as np\n",
    "import scipy as sp\n",
    "a = [[4,3],[3,4]]\n",
    "a = np.array(a)\n",
    "print(a)\n",
    "l,V = np.linalg.eig(a)\n",
    "print(V,l)\n",
    "print(np.dot(V,np.dot(np.diag(l),V.conj().T)))\n",
    "print(sp.linalg.logm(a))\n",
    "print(np.log(7))"
   ]
  },
  {
   "cell_type": "code",
   "execution_count": 13,
   "metadata": {},
   "outputs": [
    {
     "name": "stdout",
     "output_type": "stream",
     "text": [
      "[ 1.+0.j -1.+0.j] [[-0.        -0.70710678j  0.70710678+0.j        ]\n",
      " [ 0.70710678+0.j          0.        -0.70710678j]]\n"
     ]
    }
   ],
   "source": [
    "from qiskit.opflow import X,Y,Z\n",
    "\n",
    "l,V = np.linalg.eig(Y.to_matrix())\n",
    "print(l,V)"
   ]
  },
  {
   "cell_type": "code",
   "execution_count": 20,
   "metadata": {},
   "outputs": [
    {
     "name": "stdout",
     "output_type": "stream",
     "text": [
      "[[-0.52573111 -0.85065081]\n",
      " [-0.85065081  0.52573111]]\n",
      "[[1.61803399 0.        ]\n",
      " [0.         0.61803399]]\n",
      "[[-0.85065081 -0.52573111]\n",
      " [-0.52573111  0.85065081]]\n",
      "[[0.89442719 0.4472136 ]\n",
      " [0.4472136  1.34164079]]\n"
     ]
    }
   ],
   "source": [
    "A = np.array([[1,0],[1,1]])\n",
    "u,s,vh = sp.linalg.svd(A)\n",
    "s = np.diag(s)\n",
    "print(u)\n",
    "print(s)\n",
    "print(vh)\n",
    "print(u @ s @ u)"
   ]
  },
  {
   "cell_type": "code",
   "execution_count": 22,
   "metadata": {},
   "outputs": [
    {
     "name": "stdout",
     "output_type": "stream",
     "text": [
      "[[ 0.89442719 -0.4472136 ]\n",
      " [ 0.4472136   0.89442719]]\n",
      "[[0.89442719 0.4472136 ]\n",
      " [0.4472136  1.34164079]]\n"
     ]
    }
   ],
   "source": [
    "A = np.array([[1,0],[1,1]])\n",
    "u,p = sp.linalg.polar(A,'left')\n",
    "print(u)\n",
    "print(p)"
   ]
  }
 ],
 "metadata": {
  "kernelspec": {
   "display_name": "linalg",
   "language": "python",
   "name": "python3"
  },
  "language_info": {
   "codemirror_mode": {
    "name": "ipython",
    "version": 3
   },
   "file_extension": ".py",
   "mimetype": "text/x-python",
   "name": "python",
   "nbconvert_exporter": "python",
   "pygments_lexer": "ipython3",
   "version": "3.10.10"
  }
 },
 "nbformat": 4,
 "nbformat_minor": 2
}
