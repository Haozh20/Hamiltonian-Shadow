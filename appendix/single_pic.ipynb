{
 "cells": [
  {
   "cell_type": "code",
   "execution_count": 270,
   "metadata": {},
   "outputs": [],
   "source": [
    "import time, math, cmath, argparse, random\n",
    "import numpy as np\n",
    "import scipy as sp\n",
    "from scipy.linalg import expm,sqrtm\n",
    "import qiskit as qs\n",
    "from qiskit.quantum_info import random_unitary, random_clifford\n",
    "from qiskit.opflow import I, X, Y, Z\n",
    "from qiskit.quantum_info import Pauli\n",
    "from tqdm import tqdm\n",
    "import matplotlib.pyplot as plt"
   ]
  },
  {
   "cell_type": "code",
   "execution_count": 271,
   "metadata": {},
   "outputs": [],
   "source": [
    "# 通过给定的H计算出相应N^{-1} channel的(X^D)^{-1}\n",
    "def VX_calculate(H):\n",
    "    dim = len(H)\n",
    "    n = int(math.log(len(H), 2))\n",
    "\n",
    "    # diagonalize the Hamiltonian H\n",
    "    l, V = np.linalg.eig(H)\n",
    "\n",
    "    V_abs = np.zeros((dim,dim),dtype = float)\n",
    "    for i in range(dim):\n",
    "        for j in range(dim):\n",
    "            V_abs[i,j] = np.abs(V[i,j])**2\n",
    "\n",
    "    X_mat = np.dot(V_abs.T,V_abs)\n",
    "    X_inv = np.linalg.inv(X_mat)\n",
    "    return l, V, X_mat, X_inv\n",
    "\n",
    "def H_map(Post_state, V, X_mat, X_inv):\n",
    "\n",
    "    D = len(Post_state)\n",
    "    V_dag = V.conj().T\n",
    "    # get the input state for channel N^{-1}\n",
    "    P = np.dot(V_dag, np.dot(Post_state, V))\n",
    "\n",
    "    rho_hat = P / X_mat\n",
    "    rho_hat_diag = np.dot(X_inv,np.diag(P))\n",
    "    diag = np.arange(D)\n",
    "    rho_hat[diag,diag] = rho_hat_diag\n",
    "\n",
    "    rho_hat = np.dot(V, np.dot(rho_hat, V_dag))\n",
    "    return rho_hat"
   ]
  },
  {
   "cell_type": "code",
   "execution_count": 272,
   "metadata": {},
   "outputs": [],
   "source": [
    "# Variance approximation\n",
    "def Var_approx(obs,V,X_mat,M):\n",
    "    dim = len(V)\n",
    "    n = int(math.log(dim,2))\n",
    "\n",
    "    V_dag = V.conj().T\n",
    "    obs_spin = np.dot(V_dag,np.dot(obs,V))\n",
    "\n",
    "    var = 0\n",
    "    for i in range(dim):\n",
    "        for j in range(dim):\n",
    "            var += ((obs_spin[i][j]*obs_spin[j][i])/(X_mat[i][j]))\n",
    "    var = var.real / dim\n",
    "    var = var / M\n",
    "    return var\n",
    "\n",
    "# Variance ideal calculation\n",
    "def Var_ideal(obs,rho,V,X_mat,X_inv,M):\n",
    "    dim = len(V)\n",
    "    n = int(math.log(dim,2))\n",
    "\n",
    "    V_dag = V.conj().T\n",
    "    obs_out = H_map(obs,V,X_mat,X_inv)\n",
    "    obs_post = np.dot(V_dag,np.dot(obs_out,V))\n",
    "    rho_post = np.dot(V_dag,np.dot(rho,V))\n",
    "\n",
    "    var = 0\n",
    "    for i in range(dim):\n",
    "        for j in range(dim):\n",
    "            for k in range(dim):\n",
    "                # 计算 Y(i,j,k)\n",
    "                y = 0\n",
    "                for b in range(dim):\n",
    "                    y += V[b][i]*V_dag[i][b] * V[b][j]*V_dag[j][b] * V[b][k]*V_dag[k][b]\n",
    "\n",
    "                # 根据 i,j,k 有几个重复index分类\n",
    "                if ((i==j) and (j==k)):\n",
    "                    var += y*( obs_post[i][i]*obs_post[i][i]*rho_post[i][i] )\n",
    "                elif i==j:\n",
    "                    var += y*( obs_post[i][i]*obs_post[i][i]*rho_post[k][k] + 2*obs_post[i][k]*obs_post[i][i]*rho_post[k][i])\n",
    "                elif j==k:\n",
    "                    var += y*( obs_post[i][i]*obs_post[j][j]*rho_post[j][j] + obs_post[i][j]*obs_post[j][i]*rho_post[j][j] + obs_post[i][j]*obs_post[j][j]*rho_post[j][i] )\n",
    "                elif k==i:\n",
    "                    var += y*( obs_post[i][i]*obs_post[j][j]*rho_post[i][i] + obs_post[i][j]*obs_post[j][i]*rho_post[i][i] + obs_post[i][i]*obs_post[j][i]*rho_post[i][j] )\n",
    "                else:\n",
    "                    var += y*( obs_post[i][i]*obs_post[j][j]*rho_post[k][k] + obs_post[i][i]*obs_post[j][k]*rho_post[k][j] + obs_post[i][j]*obs_post[j][i]*rho_post[k][k] + obs_post[i][j]*obs_post[j][k]*rho_post[k][i] + obs_post[i][k]*obs_post[j][i]*rho_post[k][j] + obs_post[i][k]*obs_post[j][j]*rho_post[k][i] )\n",
    "\n",
    "    # print('almost, var=', var)\n",
    "\n",
    "    var = var - (np.trace(np.dot(rho,obs)))**2\n",
    "\n",
    "    var = var.real\n",
    "    var = var / M\n",
    "    return var\n",
    "\n",
    "def Var_global(obs,rho,M):\n",
    "    dim = len(rho)\n",
    "    part1 = np.trace(np.dot(obs,obs)) + 2*np.trace(np.dot(np.dot(obs,obs),rho))\n",
    "    part2 = 2*np.trace(obs)*np.trace(np.dot(obs,rho)) + (np.trace(obs))**2\n",
    "    part3 = (np.trace(np.dot(obs,rho)))**2\n",
    "    var = ((dim+1)*part1)/(dim+2) - part2/(dim+2) - part3\n",
    "    var = var.real / M\n",
    "    return var"
   ]
  },
  {
   "cell_type": "code",
   "execution_count": 273,
   "metadata": {},
   "outputs": [],
   "source": [
    "def Get_rho(n):\n",
    "    # 随机纯态\n",
    "    U0 = random_unitary(2**n).to_matrix()\n",
    "    rho0 = np.diag([1]+[0]*(2**n-1))\n",
    "    rho = np.dot(U0, np.dot(rho0, U0.conj().T))\n",
    "\n",
    "    return rho\n",
    "\n",
    "def Get_obs(obs_type):\n",
    "    # X+Y+Z\n",
    "    if obs_type==0: \n",
    "        obs = (X+Y+Z).to_matrix()\n",
    "    elif obs_type==1:\n",
    "        obs = X.to_matrix()\n",
    "    elif obs_type==2:\n",
    "        obs = Y.to_matrix()\n",
    "    elif obs_type==3:\n",
    "        obs = Z.to_matrix()\n",
    "\n",
    "    return obs\n",
    "\n",
    "def Get_lvx(theta):\n",
    "\n",
    "    H = np.cos(theta) * Z.to_matrix() + np.sin(theta) * X.to_matrix()\n",
    "    l,V,X_mat,X_inv = VX_calculate(H)\n",
    "    \n",
    "    return l,V,X_mat,X_inv"
   ]
  },
  {
   "cell_type": "code",
   "execution_count": 274,
   "metadata": {},
   "outputs": [],
   "source": [
    "M = 1000\n",
    "obs_type = 0\n",
    "theta_num = 2000\n",
    "theta_max = 1\n",
    "n = 1"
   ]
  },
  {
   "cell_type": "code",
   "execution_count": 275,
   "metadata": {},
   "outputs": [],
   "source": [
    "theta_table = np.linspace(0,theta_max*np.pi, theta_num+2)\n",
    "theta_table = theta_table[1:theta_num+1]\n",
    "\n",
    "# data[theta_idx]\n",
    "data = np.zeros((theta_num))"
   ]
  },
  {
   "cell_type": "code",
   "execution_count": 276,
   "metadata": {},
   "outputs": [
    {
     "name": "stdout",
     "output_type": "stream",
     "text": [
      "---- Single qubit check:\n",
      "** Observable = X+Y+Z\n",
      "M= 1000\n",
      "number of points: 2000\n",
      "max value of theta: 1 *Pi\n",
      "--------------------------------\n",
      "\n"
     ]
    },
    {
     "name": "stdout",
     "output_type": "stream",
     "text": [
      "---- Finished!\n"
     ]
    }
   ],
   "source": [
    "print('---- Single qubit check:')\n",
    "if obs_type==0:\n",
    "    print('** Observable = X+Y+Z')\n",
    "print('M=', M)\n",
    "print('number of points:', theta_num)\n",
    "print('max value of theta:', theta_max, '*Pi')\n",
    "print('--------------------------------')\n",
    "print('')\n",
    "\n",
    "############################# run\n",
    "\n",
    "# Get state rho\n",
    "rho = Get_rho(n)\n",
    "\n",
    "# Get observable obs\n",
    "obs = Get_obs(obs_type)\n",
    "\n",
    "for theta_idx in range(theta_num):\n",
    "    theta = theta_table[theta_idx]\n",
    "\n",
    "    # Get Hamiltonian H , 直接从prep中读取\n",
    "    l,V,X_mat,X_inv = Get_lvx(theta)\n",
    "\n",
    "    # Start RUNNING!\n",
    "    var = Var_ideal(obs,rho,V,X_mat,X_inv,M)\n",
    "    # var = Var_global(obs,rho,M)\n",
    "    # std = np.sqrt(var)\n",
    "    data[theta_idx] = var\n",
    "\n",
    "var_global = Var_global(obs,rho,M)\n",
    "np.save('./store/data_single_X+Y+Z.npy',data)\n",
    "print('---- Finished!')"
   ]
  },
  {
   "cell_type": "code",
   "execution_count": 277,
   "metadata": {},
   "outputs": [
    {
     "name": "stdout",
     "output_type": "stream",
     "text": [
      "0.007908366035514409\n",
      "0.008908316159560987\n"
     ]
    }
   ],
   "source": [
    "y = data\n",
    "x = theta_table\n",
    "print(y[500])\n",
    "print(var_global)"
   ]
  },
  {
   "cell_type": "code",
   "execution_count": 278,
   "metadata": {},
   "outputs": [
    {
     "data": {
      "image/png": "[encoded data removed]",
      "text/plain": [
       "<Figure size 640x480 with 1 Axes>"
      ]
     },
     "metadata": {},
     "output_type": "display_data"
    }
   ],
   "source": [
    "plt.plot(x, y, marker='.', linewidth=1.5, linestyle='-', markersize=0)\n",
    "plt.yscale('log')\n",
    "# plt.xscale('log')"
   ]
  }
 ],
 "metadata": {
  "kernelspec": {
   "display_name": "quantum",
   "language": "python",
   "name": "python3"
  },
  "language_info": {
   "codemirror_mode": {
    "name": "ipython",
    "version": 3
   },
   "file_extension": ".py",
   "mimetype": "text/x-python",
   "name": "python",
   "nbconvert_exporter": "python",
   "pygments_lexer": "ipython3",
   "version": "3.9.13"
  },
  "orig_nbformat": 4
 },
 "nbformat": 4,
 "nbformat_minor": 2
}
